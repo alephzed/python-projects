{
 "cells": [
  {
   "cell_type": "code",
   "execution_count": 18,
   "metadata": {},
   "outputs": [],
   "source": [
    "import warnings\n",
    "warnings.filterwarnings('ignore')"
   ]
  },
  {
   "cell_type": "code",
   "execution_count": 19,
   "metadata": {},
   "outputs": [
    {
     "name": "stdout",
     "output_type": "stream",
     "text": [
      "The zipline extension is already loaded. To reload it, use:\n",
      "  %reload_ext zipline\n"
     ]
    }
   ],
   "source": [
    "%load_ext zipline\n",
    "import zipline"
   ]
  },
  {
   "cell_type": "code",
   "execution_count": 20,
   "metadata": {},
   "outputs": [],
   "source": [
    "from zipline.api import order_target_percent, record, symbol, set_benchmark, get_open_orders\n",
    "from datetime import datetime\n",
    "import pytz"
   ]
  },
  {
   "cell_type": "code",
   "execution_count": 21,
   "metadata": {},
   "outputs": [],
   "source": [
    "def initialize(context):\n",
    "    context.i = 0\n",
    "    context.asset = symbol('AAPL')\n",
    "    set_benchmark(symbol('AAPL'))"
   ]
  },
  {
   "cell_type": "code",
   "execution_count": 22,
   "metadata": {},
   "outputs": [],
   "source": [
    "def handle_data(context, data):\n",
    "    # Skip first 200 days to get full windows\n",
    "    context.i += 1\n",
    "    if context.i < 200:\n",
    "         return\n",
    "    # Compute averages\n",
    "    # data.history() has to be called with the same params\n",
    "    # from above and returns a pandas dataframe.\n",
    "    short_mavg = data.history(context.asset, 'price', bar_count=50, frequency=\"1d\").mean()\n",
    "    long_mavg = data.history(context.asset, 'price', bar_count=200, frequency=\"1d\").mean()\n",
    "\n",
    "    # Trading logic\n",
    "    open_orders = get_open_orders()\n",
    "    \n",
    "    if context.asset not in open_orders:\n",
    "        if short_mavg > long_mavg:\n",
    "            # order_target orders as many shares as needed to\n",
    "            # achieve the desired number of shares.\n",
    "            order_target_percent(context.asset, 1.0)\n",
    "        elif short_mavg < long_mavg:\n",
    "            order_target_percent(context.asset, 0.0)\n",
    "\n",
    "    # Save values for later inspection\n",
    "    record(AAPL=data.current(context.asset, 'price'),\n",
    "           short_mavg=short_mavg,\n",
    "           long_mavg=long_mavg)"
   ]
  },
  {
   "cell_type": "code",
   "execution_count": 23,
   "metadata": {},
   "outputs": [],
   "source": [
    "start = datetime(2012, 1, 1, 0, 0, 0, 0, pytz.utc)\n",
    "end = datetime(2017, 1, 1, 0, 0, 0, 0, pytz.utc)\n",
    "\n",
    "perf = zipline.run_algorithm(start=start,\n",
    "                      end=end,\n",
    "                      initialize=initialize,\n",
    "                      capital_base=10000,\n",
    "                      handle_data=handle_data)"
   ]
  },
  {
   "cell_type": "code",
   "execution_count": 17,
   "metadata": {
    "scrolled": false
   },
   "outputs": [
    {
     "ename": "ValueError",
     "evalue": "too many values to unpack (expected 3)",
     "output_type": "error",
     "traceback": [
      "\u001b[0;31m---------------------------------------------------------------------------\u001b[0m",
      "\u001b[0;31mValueError\u001b[0m                                Traceback (most recent call last)",
      "\u001b[0;32m<ipython-input-17-2bfc6e19a321>\u001b[0m in \u001b[0;36m<module>\u001b[0;34m()\u001b[0m\n\u001b[1;32m      3\u001b[0m \u001b[0;34m\u001b[0m\u001b[0m\n\u001b[1;32m      4\u001b[0m \u001b[0;31m# Extract algo returns and benchmark returns\u001b[0m\u001b[0;34m\u001b[0m\u001b[0;34m\u001b[0m\u001b[0m\n\u001b[0;32m----> 5\u001b[0;31m \u001b[0mreturns\u001b[0m\u001b[0;34m,\u001b[0m \u001b[0mpositions\u001b[0m\u001b[0;34m,\u001b[0m \u001b[0mtransactions\u001b[0m \u001b[0;34m=\u001b[0m \u001b[0mpf\u001b[0m\u001b[0;34m.\u001b[0m\u001b[0mutils\u001b[0m\u001b[0;34m.\u001b[0m\u001b[0mextract_rets_pos_txn_from_zipline\u001b[0m\u001b[0;34m(\u001b[0m\u001b[0mperf\u001b[0m\u001b[0;34m)\u001b[0m\u001b[0;34m\u001b[0m\u001b[0m\n\u001b[0m\u001b[1;32m      6\u001b[0m \u001b[0mbenchmark_period_return\u001b[0m \u001b[0;34m=\u001b[0m \u001b[0mperf\u001b[0m\u001b[0;34m[\u001b[0m\u001b[0;34m'benchmark_period_return'\u001b[0m\u001b[0;34m]\u001b[0m\u001b[0;34m\u001b[0m\u001b[0m\n\u001b[1;32m      7\u001b[0m \u001b[0;34m\u001b[0m\u001b[0m\n",
      "\u001b[0;31mValueError\u001b[0m: too many values to unpack (expected 3)"
     ]
    }
   ],
   "source": [
    "import pyfolio as pf\n",
    "import numpy as np\n",
    "\n",
    "# Extract algo returns and benchmark returns\n",
    "returns, positions, transactions = pf.utils.extract_rets_pos_txn_from_zipline(perf)\n",
    "benchmark_period_return = perf['benchmark_period_return']\n",
    "\n",
    "# Convert benchmark returns to daily returns\n",
    "#daily_returns = (1 + benchmark_period_return) / (1 + benchmark_period_return.shift()) - 1\n",
    "daily_benchmark_returns = np.exp(np.log(benchmark_period_return + 1.0).diff()) - 1\n",
    "\n",
    "# Create tear sheet\n",
    "pf.create_full_tear_sheet(returns, positions=positions, transactions=transactions, benchmark_rets=daily_benchmark_returns)\n"
   ]
  },
  {
   "cell_type": "markdown",
   "metadata": {},
   "source": [
    "## Example to calculate daily returns from cumulative returns"
   ]
  },
  {
   "cell_type": "code",
   "execution_count": 16,
   "metadata": {},
   "outputs": [
    {
     "name": "stdout",
     "output_type": "stream",
     "text": [
      "0         NaN\n",
      "1   -0.500000\n",
      "2    0.500000\n",
      "3    0.388889\n",
      "dtype: float64\n",
      "0         NaN\n",
      "1   -0.500000\n",
      "2    0.500000\n",
      "3    0.388889\n",
      "dtype: float64\n",
      "0    0.5\n",
      "dtype: float64\n",
      "-0.5\n",
      "0.5\n",
      "0.38888888888888884\n"
     ]
    }
   ],
   "source": [
    "import pandas as pd\n",
    "\n",
    "# We need to be able to calulate the daily returns from the cumulative returns\n",
    "daily_returns = pd.Series([0.5, -0.5, 0.5, -0.5])\n",
    "cumulative_returns = pd.Series([0.5, -0.25, 0.125, 0.5625])\n",
    "\n",
    "# Two different formulas to calculate daily returns\n",
    "print((1 + cumulative_returns) / (1 + cumulative_returns.shift()) -1)\n",
    "print((np.exp(np.log(cumulative_returns + 1).diff()) - 1))\n",
    "\n",
    "# Recreate daily returns manually for example purposes\n",
    "print(daily_returns.head(1))\n",
    "print((1 - 0.25) / (1.5) - 1)\n",
    "print((1 + 0.125) / (1 - 0.25) - 1)\n",
    "print((1 + 0.5625) / (1 + 0.125 ) - 1)"
   ]
  },
  {
   "cell_type": "code",
   "execution_count": null,
   "metadata": {},
   "outputs": [],
   "source": []
  }
 ],
 "metadata": {
  "kernelspec": {
   "display_name": "Python 3",
   "language": "python",
   "name": "python3"
  },
  "language_info": {
   "codemirror_mode": {
    "name": "ipython",
    "version": 3
   },
   "file_extension": ".py",
   "mimetype": "text/x-python",
   "name": "python",
   "nbconvert_exporter": "python",
   "pygments_lexer": "ipython3",
   "version": "3.5.6"
  }
 },
 "nbformat": 4,
 "nbformat_minor": 2
}
